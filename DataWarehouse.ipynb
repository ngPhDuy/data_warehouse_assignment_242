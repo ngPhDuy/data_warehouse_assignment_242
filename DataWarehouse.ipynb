{
  "nbformat": 4,
  "nbformat_minor": 0,
  "metadata": {
    "colab": {
      "name": "DataWarehouse",
      "cell_execution_strategy": "setup",
      "provenance": []
    },
    "kernelspec": {
      "name": "python3",
      "display_name": "Python 3"
    },
    "language_info": {
      "name": "python"
    }
  },
  "cells": [
    {
      "cell_type": "code",
      "source": [
        "from google.cloud import bigquery\n",
        "\n",
        "client = bigquery.Client()\n",
        "\n",
        "# Định nghĩa project & dataset\n",
        "PROJECT_ID = \"dw-assignment-242\"\n",
        "DATASET_ID = \"job_analysis\"\n",
        "CLEANED_TABLE = f\"{PROJECT_ID}.{DATASET_ID}.cleaned_table\""
      ],
      "metadata": {
        "id": "H5-eE27lCQqT",
        "executionInfo": {
          "status": "ok",
          "timestamp": 1743734180756,
          "user_tz": -420,
          "elapsed": 837,
          "user": {
            "displayName": "",
            "userId": ""
          }
        }
      },
      "execution_count": 1,
      "outputs": []
    },
    {
      "cell_type": "code",
      "source": [
        "# Tạo các bảng Dimension cho các thuộc tính đơn giản\n",
        "# =======================================\n",
        "dim_queries = {\n",
        "    \"DIM_COMPANY\": f\"\"\"\n",
        "        CREATE OR REPLACE TABLE `{PROJECT_ID}.{DATASET_ID}.DIM_COMPANY` AS\n",
        "        SELECT ROW_NUMBER() OVER() AS company_id, company\n",
        "        FROM (SELECT DISTINCT company FROM `{CLEANED_TABLE}`);\n",
        "    \"\"\",\n",
        "    \"DIM_ROLE\": f\"\"\"\n",
        "        CREATE OR REPLACE TABLE `{PROJECT_ID}.{DATASET_ID}.DIM_ROLE` AS\n",
        "        SELECT ROW_NUMBER() OVER() AS role_id, role\n",
        "        FROM (SELECT DISTINCT role FROM `{CLEANED_TABLE}`);\n",
        "    \"\"\",\n",
        "    \"DIM_PORTAL\": f\"\"\"\n",
        "        CREATE OR REPLACE TABLE `{PROJECT_ID}.{DATASET_ID}.DIM_PORTAL` AS\n",
        "        SELECT ROW_NUMBER() OVER() AS portal_id, portal\n",
        "        FROM (SELECT DISTINCT portal FROM `{CLEANED_TABLE}`);\n",
        "    \"\"\",\n",
        "    \"DIM_COUNTRY\": f\"\"\"\n",
        "        CREATE OR REPLACE TABLE `{PROJECT_ID}.{DATASET_ID}.DIM_COUNTRY` AS\n",
        "        SELECT ROW_NUMBER() OVER() AS country_id, country\n",
        "        FROM (SELECT DISTINCT country FROM `{CLEANED_TABLE}`);\n",
        "    \"\"\",\n",
        "    \"DIM_TIME_TYPE\": f\"\"\"\n",
        "        CREATE OR REPLACE TABLE `{PROJECT_ID}.{DATASET_ID}.DIM_TIME_TYPE` AS\n",
        "        SELECT ROW_NUMBER() OVER() AS time_type_id, time_type\n",
        "        FROM (SELECT DISTINCT time_type FROM `{CLEANED_TABLE}`);\n",
        "    \"\"\",\n",
        "    \"DIM_WORK_TYPE\": f\"\"\"\n",
        "        CREATE OR REPLACE TABLE `{PROJECT_ID}.{DATASET_ID}.DIM_WORK_TYPE` AS\n",
        "        SELECT ROW_NUMBER() OVER() AS work_type_id, work_type\n",
        "        FROM (SELECT DISTINCT work_type FROM `{CLEANED_TABLE}`);\n",
        "    \"\"\"\n",
        "}\n",
        "\n",
        "for table_name, query in dim_queries.items():\n",
        "    query_job = client.query(query)\n",
        "    query_job.result()\n",
        "    print(f\"Bảng {table_name} đã được tạo.\")"
      ],
      "metadata": {
        "colab": {
          "base_uri": "https://localhost:8080/"
        },
        "id": "CsW8JcW2C4gM",
        "executionInfo": {
          "status": "ok",
          "timestamp": 1743734194677,
          "user_tz": -420,
          "elapsed": 11940,
          "user": {
            "displayName": "",
            "userId": ""
          }
        },
        "outputId": "5003c85e-d864-4be2-d164-9815e8653a7f"
      },
      "execution_count": 2,
      "outputs": [
        {
          "output_type": "stream",
          "name": "stdout",
          "text": [
            "Bảng DIM_COMPANY đã được tạo.\n",
            "Bảng DIM_ROLE đã được tạo.\n",
            "Bảng DIM_PORTAL đã được tạo.\n",
            "Bảng DIM_COUNTRY đã được tạo.\n",
            "Bảng DIM_TIME_TYPE đã được tạo.\n",
            "Bảng DIM_WORK_TYPE đã được tạo.\n"
          ]
        }
      ]
    },
    {
      "cell_type": "code",
      "source": [
        "# Tạo bảng DIM_SKILL\n",
        "# =======================================\n",
        "dim_skill_query = f\"\"\"\n",
        "CREATE OR REPLACE TABLE `{PROJECT_ID}.{DATASET_ID}.DIM_SKILL` AS\n",
        "WITH all_skills AS (\n",
        "  SELECT LOWER(TRIM(skill)) AS skill\n",
        "  FROM `{CLEANED_TABLE}`,\n",
        "  UNNEST(SPLIT(REGEXP_REPLACE(skills, r\"[\\[\\]']\", \"\"), ',')) AS skill\n",
        ")\n",
        "SELECT ROW_NUMBER() OVER() AS skill_id, skill\n",
        "FROM (SELECT DISTINCT skill FROM all_skills)\n",
        "WHERE skill IS NOT NULL AND skill != '';\n",
        "\"\"\"\n",
        "query_job = client.query(dim_skill_query)\n",
        "query_job.result()\n",
        "print(\"Bảng DIM_SKILL đã được tạo.\")"
      ],
      "metadata": {
        "colab": {
          "base_uri": "https://localhost:8080/"
        },
        "id": "9lUFxmo1D_hc",
        "executionInfo": {
          "status": "ok",
          "timestamp": 1743734196838,
          "user_tz": -420,
          "elapsed": 2165,
          "user": {
            "displayName": "",
            "userId": ""
          }
        },
        "outputId": "7d5d85c9-4b0d-432a-f099-ad15311d91f8"
      },
      "execution_count": 3,
      "outputs": [
        {
          "output_type": "stream",
          "name": "stdout",
          "text": [
            "Bảng DIM_SKILL đã được tạo.\n"
          ]
        }
      ]
    },
    {
      "cell_type": "code",
      "source": [
        "# Tạo bảng DIM_TIME (Dimension cho thời gian)\n",
        "# =======================================\n",
        "dim_time_query = f\"\"\"\n",
        "CREATE OR REPLACE TABLE `{PROJECT_ID}.{DATASET_ID}.DIM_TIME` AS\n",
        "WITH dates AS (\n",
        "  SELECT DISTINCT PARSE_DATE('%d/%m/%Y', posted_date) AS posted_date\n",
        "  FROM `{CLEANED_TABLE}`\n",
        "  WHERE posted_date IS NOT NULL\n",
        ")\n",
        "SELECT\n",
        "  ROW_NUMBER() OVER() AS time_id,\n",
        "  EXTRACT(DAY FROM posted_date) AS day,\n",
        "  EXTRACT(MONTH FROM posted_date) AS month,\n",
        "  EXTRACT(YEAR FROM posted_date) AS year\n",
        "FROM dates;\n",
        "\"\"\"\n",
        "query_job = client.query(dim_time_query)\n",
        "query_job.result()\n",
        "print(\"Bảng DIM_TIME đã được tạo.\")"
      ],
      "metadata": {
        "id": "xdnHJ64oFhmV",
        "colab": {
          "base_uri": "https://localhost:8080/"
        },
        "executionInfo": {
          "status": "ok",
          "timestamp": 1743734198907,
          "user_tz": -420,
          "elapsed": 2076,
          "user": {
            "displayName": "",
            "userId": ""
          }
        },
        "outputId": "015c7c86-69e4-4216-c790-90900adc37fa"
      },
      "execution_count": 4,
      "outputs": [
        {
          "output_type": "stream",
          "name": "stdout",
          "text": [
            "Bảng DIM_TIME đã được tạo.\n"
          ]
        }
      ]
    },
    {
      "cell_type": "code",
      "source": [
        "# Tạo bảng FACT_JOB_POSTING (Bảng fact)\n",
        "# =======================================\n",
        "fact_job_posting_query = f\"\"\"\n",
        "CREATE OR REPLACE TABLE `{PROJECT_ID}.{DATASET_ID}.FACT_JOB_POSTING` AS\n",
        "SELECT\n",
        "    ROW_NUMBER() OVER() AS job_id,\n",
        "    c.company_id,\n",
        "    r.role_id,\n",
        "    p.portal_id,\n",
        "    co.country_id,\n",
        "    tt.time_type_id,\n",
        "    wt.work_type_id,\n",
        "    t.time_id,\n",
        "    avg_year_salary,\n",
        "FROM `{CLEANED_TABLE}` j\n",
        "LEFT JOIN `{PROJECT_ID}.{DATASET_ID}.DIM_COMPANY` c ON j.company = c.company\n",
        "LEFT JOIN `{PROJECT_ID}.{DATASET_ID}.DIM_ROLE` r ON j.role = r.role\n",
        "LEFT JOIN `{PROJECT_ID}.{DATASET_ID}.DIM_PORTAL` p ON j.portal = p.portal\n",
        "LEFT JOIN `{PROJECT_ID}.{DATASET_ID}.DIM_COUNTRY` co ON j.country = co.country\n",
        "LEFT JOIN `{PROJECT_ID}.{DATASET_ID}.DIM_TIME_TYPE` tt ON j.time_type = tt.time_type\n",
        "LEFT JOIN `{PROJECT_ID}.{DATASET_ID}.DIM_WORK_TYPE` wt ON j.work_type = wt.work_type\n",
        "LEFT JOIN `{PROJECT_ID}.{DATASET_ID}.DIM_TIME` t\n",
        "  ON EXTRACT(DAY FROM PARSE_DATE('%d/%m/%Y', j.posted_date)) = t.day\n",
        "  AND EXTRACT(MONTH FROM PARSE_DATE('%d/%m/%Y', j.posted_date)) = t.month\n",
        "  AND EXTRACT(YEAR FROM PARSE_DATE('%d/%m/%Y', j.posted_date)) = t.year;\n",
        "\"\"\"\n",
        "query_job = client.query(fact_job_posting_query)\n",
        "query_job.result()\n",
        "print(\"Bảng FACT_JOBS đã được tạo.\")"
      ],
      "metadata": {
        "colab": {
          "base_uri": "https://localhost:8080/"
        },
        "id": "ETu0yxJ5GQQl",
        "executionInfo": {
          "status": "ok",
          "timestamp": 1743734201082,
          "user_tz": -420,
          "elapsed": 2183,
          "user": {
            "displayName": "",
            "userId": ""
          }
        },
        "outputId": "737e6480-ba01-4e2f-ab1c-ca446d9960de"
      },
      "execution_count": 5,
      "outputs": [
        {
          "output_type": "stream",
          "name": "stdout",
          "text": [
            "Bảng FACT_JOBS đã được tạo.\n"
          ]
        }
      ]
    },
    {
      "cell_type": "code",
      "source": [
        "# Tạo bảng BRIDGE_JOB_SKILL (Bridge Table)\n",
        "# =======================================\n",
        "fact_job_skill_query = f\"\"\"\n",
        "CREATE OR REPLACE TABLE `{PROJECT_ID}.{DATASET_ID}.BRIDGE_JOB_SKILL` AS\n",
        "WITH cleaned_with_id AS (\n",
        "  SELECT\n",
        "    ROW_NUMBER() OVER() AS job_id,\n",
        "    *\n",
        "  FROM `{CLEANED_TABLE}`\n",
        "),\n",
        "job_skills AS (\n",
        "  SELECT\n",
        "    cw.job_id,\n",
        "    LOWER(TRIM(skill)) AS skill\n",
        "  FROM cleaned_with_id cw,\n",
        "  UNNEST(SPLIT(REGEXP_REPLACE(cw.skills, r\"[\\[\\]']\", \"\"), ',')) AS skill\n",
        ")\n",
        "SELECT\n",
        "  js.job_id,\n",
        "  s.skill_id\n",
        "FROM job_skills js\n",
        "LEFT JOIN `{PROJECT_ID}.{DATASET_ID}.DIM_SKILL` s\n",
        "  ON js.skill = s.skill\n",
        "WHERE s.skill_id IS NOT NULL;\n",
        "\"\"\"\n",
        "query_job = client.query(fact_job_skill_query)\n",
        "query_job.result()\n",
        "print(\"Bảng BRIDGE_JOB_SKILL đã được tạo.\")"
      ],
      "metadata": {
        "colab": {
          "base_uri": "https://localhost:8080/"
        },
        "id": "ryPHC50zG7LV",
        "executionInfo": {
          "status": "ok",
          "timestamp": 1743734203190,
          "user_tz": -420,
          "elapsed": 2111,
          "user": {
            "displayName": "",
            "userId": ""
          }
        },
        "outputId": "18cb5f85-a18a-491b-bf29-12e9ff745239"
      },
      "execution_count": 6,
      "outputs": [
        {
          "output_type": "stream",
          "name": "stdout",
          "text": [
            "Bảng BRIDGE_JOB_SKILL đã được tạo.\n"
          ]
        }
      ]
    },
    {
      "cell_type": "code",
      "source": [
        "# Kiểm tra dữ liệu trong FACT_JOB_POSTING\n",
        "# =======================================\n",
        "query = f\"SELECT * FROM `{PROJECT_ID}.{DATASET_ID}.FACT_JOB_POSTING` LIMIT 10\"\n",
        "query_job = client.query(query)\n",
        "results = query_job.result()\n",
        "for row in results:\n",
        "    print(dict(row))"
      ],
      "metadata": {
        "id": "4QUIEMs0ILNi",
        "executionInfo": {
          "status": "ok",
          "timestamp": 1743734203764,
          "user_tz": -420,
          "elapsed": 579,
          "user": {
            "displayName": "",
            "userId": ""
          }
        },
        "outputId": "b3845eec-b884-41a3-c8ab-9792bfc204aa",
        "colab": {
          "base_uri": "https://localhost:8080/"
        }
      },
      "execution_count": 7,
      "outputs": [
        {
          "output_type": "stream",
          "name": "stdout",
          "text": [
            "{'job_id': 9, 'company_id': 9, 'role_id': 3, 'portal_id': 2, 'country_id': 5, 'time_type_id': 1, 'work_type_id': 1, 'time_id': 9, 'avg_year_salary': 26444.0}\n",
            "{'job_id': 96, 'company_id': 76, 'role_id': 4, 'portal_id': 1, 'country_id': 6, 'time_type_id': 1, 'work_type_id': 1, 'time_id': 84, 'avg_year_salary': 42500.0}\n",
            "{'job_id': 241, 'company_id': 170, 'role_id': 3, 'portal_id': 5, 'country_id': 5, 'time_type_id': 1, 'work_type_id': 1, 'time_id': 157, 'avg_year_salary': 47500.0}\n",
            "{'job_id': 356, 'company_id': 254, 'role_id': 5, 'portal_id': 1, 'country_id': 5, 'time_type_id': 1, 'work_type_id': 1, 'time_id': 56, 'avg_year_salary': 50000.0}\n",
            "{'job_id': 362, 'company_id': 255, 'role_id': 3, 'portal_id': 2, 'country_id': 5, 'time_type_id': 1, 'work_type_id': 1, 'time_id': 212, 'avg_year_salary': 50325.0}\n",
            "{'job_id': 422, 'company_id': 281, 'role_id': 5, 'portal_id': 4, 'country_id': 14, 'time_type_id': 1, 'work_type_id': 1, 'time_id': 231, 'avg_year_salary': 50400.0}\n",
            "{'job_id': 483, 'company_id': 227, 'role_id': 3, 'portal_id': 5, 'country_id': 5, 'time_type_id': 1, 'work_type_id': 1, 'time_id': 114, 'avg_year_salary': 51362.640625}\n",
            "{'job_id': 510, 'company_id': 328, 'role_id': 3, 'portal_id': 3, 'country_id': 5, 'time_type_id': 1, 'work_type_id': 1, 'time_id': 30, 'avg_year_salary': 52500.0}\n",
            "{'job_id': 650, 'company_id': 413, 'role_id': 3, 'portal_id': 1, 'country_id': 5, 'time_type_id': 1, 'work_type_id': 1, 'time_id': 114, 'avg_year_salary': 55000.0}\n",
            "{'job_id': 652, 'company_id': 414, 'role_id': 3, 'portal_id': 1, 'country_id': 5, 'time_type_id': 1, 'work_type_id': 1, 'time_id': 176, 'avg_year_salary': 55000.0}\n"
          ]
        }
      ]
    }
  ]
}